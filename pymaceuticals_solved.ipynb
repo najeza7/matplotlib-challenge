{
 "cells": [
  {
   "cell_type": "markdown",
   "metadata": {},
   "source": [
    "OBSERVATIONS ACCORDING TO THE DATA ANALYSIS\n",
    "\n",
    "1.-"
   ]
  },
  {
   "cell_type": "code",
   "execution_count": 48,
   "metadata": {},
   "outputs": [
    {
     "data": {
      "text/html": [
       "<div>\n",
       "<style scoped>\n",
       "    .dataframe tbody tr th:only-of-type {\n",
       "        vertical-align: middle;\n",
       "    }\n",
       "\n",
       "    .dataframe tbody tr th {\n",
       "        vertical-align: top;\n",
       "    }\n",
       "\n",
       "    .dataframe thead th {\n",
       "        text-align: right;\n",
       "    }\n",
       "</style>\n",
       "<table border=\"1\" class=\"dataframe\">\n",
       "  <thead>\n",
       "    <tr style=\"text-align: right;\">\n",
       "      <th></th>\n",
       "      <th>Mouse ID</th>\n",
       "      <th>Drug Regimen</th>\n",
       "      <th>Sex</th>\n",
       "      <th>Age_months</th>\n",
       "      <th>Weight (g)</th>\n",
       "      <th>Timepoint</th>\n",
       "      <th>Tumor Volume (mm3)</th>\n",
       "      <th>Metastatic Sites</th>\n",
       "    </tr>\n",
       "  </thead>\n",
       "  <tbody>\n",
       "    <tr>\n",
       "      <th>0</th>\n",
       "      <td>k403</td>\n",
       "      <td>Ramicane</td>\n",
       "      <td>Male</td>\n",
       "      <td>21</td>\n",
       "      <td>16</td>\n",
       "      <td>0</td>\n",
       "      <td>45.000000</td>\n",
       "      <td>0</td>\n",
       "    </tr>\n",
       "    <tr>\n",
       "      <th>1</th>\n",
       "      <td>k403</td>\n",
       "      <td>Ramicane</td>\n",
       "      <td>Male</td>\n",
       "      <td>21</td>\n",
       "      <td>16</td>\n",
       "      <td>5</td>\n",
       "      <td>38.825898</td>\n",
       "      <td>0</td>\n",
       "    </tr>\n",
       "    <tr>\n",
       "      <th>2</th>\n",
       "      <td>k403</td>\n",
       "      <td>Ramicane</td>\n",
       "      <td>Male</td>\n",
       "      <td>21</td>\n",
       "      <td>16</td>\n",
       "      <td>10</td>\n",
       "      <td>35.014271</td>\n",
       "      <td>1</td>\n",
       "    </tr>\n",
       "    <tr>\n",
       "      <th>3</th>\n",
       "      <td>k403</td>\n",
       "      <td>Ramicane</td>\n",
       "      <td>Male</td>\n",
       "      <td>21</td>\n",
       "      <td>16</td>\n",
       "      <td>15</td>\n",
       "      <td>34.223992</td>\n",
       "      <td>1</td>\n",
       "    </tr>\n",
       "    <tr>\n",
       "      <th>4</th>\n",
       "      <td>k403</td>\n",
       "      <td>Ramicane</td>\n",
       "      <td>Male</td>\n",
       "      <td>21</td>\n",
       "      <td>16</td>\n",
       "      <td>20</td>\n",
       "      <td>32.997729</td>\n",
       "      <td>1</td>\n",
       "    </tr>\n",
       "  </tbody>\n",
       "</table>\n",
       "</div>"
      ],
      "text/plain": [
       "  Mouse ID Drug Regimen   Sex  Age_months  Weight (g)  Timepoint  \\\n",
       "0     k403     Ramicane  Male          21          16          0   \n",
       "1     k403     Ramicane  Male          21          16          5   \n",
       "2     k403     Ramicane  Male          21          16         10   \n",
       "3     k403     Ramicane  Male          21          16         15   \n",
       "4     k403     Ramicane  Male          21          16         20   \n",
       "\n",
       "   Tumor Volume (mm3)  Metastatic Sites  \n",
       "0           45.000000                 0  \n",
       "1           38.825898                 0  \n",
       "2           35.014271                 1  \n",
       "3           34.223992                 1  \n",
       "4           32.997729                 1  "
      ]
     },
     "execution_count": 48,
     "metadata": {},
     "output_type": "execute_result"
    }
   ],
   "source": [
    "# Import dependencies\n",
    "import matplotlib.pyplot as plt\n",
    "import pandas as pd\n",
    "import numpy as np\n",
    "import random as rd\n",
    "import scipy.stats as st\n",
    "\n",
    "# Data files path\n",
    "mouse_metadata_path = \"data/Mouse_metadata.csv\"\n",
    "study_results_path = \"data/Study_results.csv\"\n",
    "\n",
    "# Read the mouse data and the study results\n",
    "mouse_metadata = pd.read_csv(mouse_metadata_path)\n",
    "study_results = pd.read_csv(study_results_path)\n",
    "\n",
    "# Combine the data into a single dataset\n",
    "data = pd.merge(mouse_metadata,study_results, on = \"Mouse ID\")\n",
    "\n",
    "# Display the data table for preview\n",
    "data.head()"
   ]
  },
  {
   "cell_type": "code",
   "execution_count": 49,
   "metadata": {},
   "outputs": [
    {
     "name": "stdout",
     "output_type": "stream",
     "text": [
      "249 mice were observed in this study\n"
     ]
    }
   ],
   "source": [
    "# Checking the number of mice\n",
    "mice = len(data[\"Mouse ID\"].unique())\n",
    "print(f\"{mice} mice were observed in this study\")"
   ]
  },
  {
   "cell_type": "code",
   "execution_count": 50,
   "metadata": {},
   "outputs": [],
   "source": [
    "# Getting the duplicate mice by ID number that shows up for Mouse ID and Timepoint.\n",
    "# This command generates a boolean variable that turns True when the Mouse ID is duplicate on the same Timepoint\n",
    "duplicates= data.duplicated(subset=['Mouse ID', 'Timepoint'])"
   ]
  },
  {
   "cell_type": "code",
   "execution_count": 51,
   "metadata": {},
   "outputs": [
    {
     "data": {
      "text/html": [
       "<div>\n",
       "<style scoped>\n",
       "    .dataframe tbody tr th:only-of-type {\n",
       "        vertical-align: middle;\n",
       "    }\n",
       "\n",
       "    .dataframe tbody tr th {\n",
       "        vertical-align: top;\n",
       "    }\n",
       "\n",
       "    .dataframe thead th {\n",
       "        text-align: right;\n",
       "    }\n",
       "</style>\n",
       "<table border=\"1\" class=\"dataframe\">\n",
       "  <thead>\n",
       "    <tr style=\"text-align: right;\">\n",
       "      <th></th>\n",
       "      <th>Mouse ID</th>\n",
       "      <th>Drug Regimen</th>\n",
       "      <th>Sex</th>\n",
       "      <th>Age_months</th>\n",
       "      <th>Weight (g)</th>\n",
       "      <th>Timepoint</th>\n",
       "      <th>Tumor Volume (mm3)</th>\n",
       "      <th>Metastatic Sites</th>\n",
       "    </tr>\n",
       "  </thead>\n",
       "  <tbody>\n",
       "    <tr>\n",
       "      <th>909</th>\n",
       "      <td>g989</td>\n",
       "      <td>Propriva</td>\n",
       "      <td>Female</td>\n",
       "      <td>21</td>\n",
       "      <td>26</td>\n",
       "      <td>0</td>\n",
       "      <td>45.000000</td>\n",
       "      <td>0</td>\n",
       "    </tr>\n",
       "    <tr>\n",
       "      <th>911</th>\n",
       "      <td>g989</td>\n",
       "      <td>Propriva</td>\n",
       "      <td>Female</td>\n",
       "      <td>21</td>\n",
       "      <td>26</td>\n",
       "      <td>5</td>\n",
       "      <td>47.570392</td>\n",
       "      <td>0</td>\n",
       "    </tr>\n",
       "    <tr>\n",
       "      <th>913</th>\n",
       "      <td>g989</td>\n",
       "      <td>Propriva</td>\n",
       "      <td>Female</td>\n",
       "      <td>21</td>\n",
       "      <td>26</td>\n",
       "      <td>10</td>\n",
       "      <td>49.880528</td>\n",
       "      <td>0</td>\n",
       "    </tr>\n",
       "    <tr>\n",
       "      <th>915</th>\n",
       "      <td>g989</td>\n",
       "      <td>Propriva</td>\n",
       "      <td>Female</td>\n",
       "      <td>21</td>\n",
       "      <td>26</td>\n",
       "      <td>15</td>\n",
       "      <td>53.442020</td>\n",
       "      <td>0</td>\n",
       "    </tr>\n",
       "    <tr>\n",
       "      <th>917</th>\n",
       "      <td>g989</td>\n",
       "      <td>Propriva</td>\n",
       "      <td>Female</td>\n",
       "      <td>21</td>\n",
       "      <td>26</td>\n",
       "      <td>20</td>\n",
       "      <td>54.657650</td>\n",
       "      <td>1</td>\n",
       "    </tr>\n",
       "  </tbody>\n",
       "</table>\n",
       "</div>"
      ],
      "text/plain": [
       "    Mouse ID Drug Regimen     Sex  Age_months  Weight (g)  Timepoint  \\\n",
       "909     g989     Propriva  Female          21          26          0   \n",
       "911     g989     Propriva  Female          21          26          5   \n",
       "913     g989     Propriva  Female          21          26         10   \n",
       "915     g989     Propriva  Female          21          26         15   \n",
       "917     g989     Propriva  Female          21          26         20   \n",
       "\n",
       "     Tumor Volume (mm3)  Metastatic Sites  \n",
       "909           45.000000                 0  \n",
       "911           47.570392                 0  \n",
       "913           49.880528                 0  \n",
       "915           53.442020                 0  \n",
       "917           54.657650                 1  "
      ]
     },
     "execution_count": 51,
     "metadata": {},
     "output_type": "execute_result"
    }
   ],
   "source": [
    "# Optional: Get all the data for the duplicate mouse ID.\n",
    "# According to the boolean variable generated we get the rest of the data for the duplicated cases\n",
    "duplicate_mice = data[duplicates]\n",
    "duplicate_mice"
   ]
  },
  {
   "cell_type": "code",
   "execution_count": 52,
   "metadata": {},
   "outputs": [
    {
     "data": {
      "text/html": [
       "<div>\n",
       "<style scoped>\n",
       "    .dataframe tbody tr th:only-of-type {\n",
       "        vertical-align: middle;\n",
       "    }\n",
       "\n",
       "    .dataframe tbody tr th {\n",
       "        vertical-align: top;\n",
       "    }\n",
       "\n",
       "    .dataframe thead th {\n",
       "        text-align: right;\n",
       "    }\n",
       "</style>\n",
       "<table border=\"1\" class=\"dataframe\">\n",
       "  <thead>\n",
       "    <tr style=\"text-align: right;\">\n",
       "      <th></th>\n",
       "      <th>Mouse ID</th>\n",
       "      <th>Drug_Regimen</th>\n",
       "      <th>Sex</th>\n",
       "      <th>Age_months</th>\n",
       "      <th>Weight</th>\n",
       "      <th>Timepoint</th>\n",
       "      <th>Tumor_Volume</th>\n",
       "      <th>Metastatic_Sites</th>\n",
       "    </tr>\n",
       "  </thead>\n",
       "  <tbody>\n",
       "    <tr>\n",
       "      <th>0</th>\n",
       "      <td>k403</td>\n",
       "      <td>Ramicane</td>\n",
       "      <td>Male</td>\n",
       "      <td>21</td>\n",
       "      <td>16</td>\n",
       "      <td>0</td>\n",
       "      <td>45.000000</td>\n",
       "      <td>0</td>\n",
       "    </tr>\n",
       "    <tr>\n",
       "      <th>1</th>\n",
       "      <td>k403</td>\n",
       "      <td>Ramicane</td>\n",
       "      <td>Male</td>\n",
       "      <td>21</td>\n",
       "      <td>16</td>\n",
       "      <td>5</td>\n",
       "      <td>38.825898</td>\n",
       "      <td>0</td>\n",
       "    </tr>\n",
       "    <tr>\n",
       "      <th>2</th>\n",
       "      <td>k403</td>\n",
       "      <td>Ramicane</td>\n",
       "      <td>Male</td>\n",
       "      <td>21</td>\n",
       "      <td>16</td>\n",
       "      <td>10</td>\n",
       "      <td>35.014271</td>\n",
       "      <td>1</td>\n",
       "    </tr>\n",
       "    <tr>\n",
       "      <th>3</th>\n",
       "      <td>k403</td>\n",
       "      <td>Ramicane</td>\n",
       "      <td>Male</td>\n",
       "      <td>21</td>\n",
       "      <td>16</td>\n",
       "      <td>15</td>\n",
       "      <td>34.223992</td>\n",
       "      <td>1</td>\n",
       "    </tr>\n",
       "    <tr>\n",
       "      <th>4</th>\n",
       "      <td>k403</td>\n",
       "      <td>Ramicane</td>\n",
       "      <td>Male</td>\n",
       "      <td>21</td>\n",
       "      <td>16</td>\n",
       "      <td>20</td>\n",
       "      <td>32.997729</td>\n",
       "      <td>1</td>\n",
       "    </tr>\n",
       "  </tbody>\n",
       "</table>\n",
       "</div>"
      ],
      "text/plain": [
       "  Mouse ID Drug_Regimen   Sex  Age_months  Weight  Timepoint  Tumor_Volume  \\\n",
       "0     k403     Ramicane  Male          21      16          0     45.000000   \n",
       "1     k403     Ramicane  Male          21      16          5     38.825898   \n",
       "2     k403     Ramicane  Male          21      16         10     35.014271   \n",
       "3     k403     Ramicane  Male          21      16         15     34.223992   \n",
       "4     k403     Ramicane  Male          21      16         20     32.997729   \n",
       "\n",
       "   Metastatic_Sites  \n",
       "0                 0  \n",
       "1                 0  \n",
       "2                 1  \n",
       "3                 1  \n",
       "4                 1  "
      ]
     },
     "execution_count": 52,
     "metadata": {},
     "output_type": "execute_result"
    }
   ],
   "source": [
    "# Create a clean DataFrame by dropping the duplicate mouse by its ID\n",
    "\n",
    "# In order to preserve data of the 249 mice we keep the last measurement of the duplicate mouse from each timepoint \n",
    "data_clean = data.drop_duplicates(subset=['Mouse ID', 'Timepoint'], keep='last')\n",
    "\n",
    "# We rename the columns for easier manipulation\n",
    "data_clean = data_clean.rename(columns = {'Drug Regimen': 'Drug_Regimen','Weight (g)' : 'Weight', \n",
    "                                          'Tumor Volume (mm3)': 'Tumor_Volume',\n",
    "                                          'Metastatic Sites' : 'Metastatic_Sites'})\n",
    "data_clean.head()"
   ]
  },
  {
   "cell_type": "code",
   "execution_count": 53,
   "metadata": {},
   "outputs": [
    {
     "name": "stdout",
     "output_type": "stream",
     "text": [
      "249 mice were observed in this study, after cleaning the database\n"
     ]
    }
   ],
   "source": [
    "# Checking the number of mice in the clean DataFrame.\n",
    "clean_mice =  len(data_clean[\"Mouse ID\"].unique())\n",
    "print(f\"{clean_mice} mice were observed in this study, after cleaning the database\")"
   ]
  },
  {
   "cell_type": "markdown",
   "metadata": {},
   "source": [
    "**SUMMARY STATISTICS**"
   ]
  },
  {
   "cell_type": "code",
   "execution_count": 54,
   "metadata": {},
   "outputs": [
    {
     "data": {
      "text/html": [
       "<div>\n",
       "<style scoped>\n",
       "    .dataframe tbody tr th:only-of-type {\n",
       "        vertical-align: middle;\n",
       "    }\n",
       "\n",
       "    .dataframe tbody tr th {\n",
       "        vertical-align: top;\n",
       "    }\n",
       "\n",
       "    .dataframe thead th {\n",
       "        text-align: right;\n",
       "    }\n",
       "</style>\n",
       "<table border=\"1\" class=\"dataframe\">\n",
       "  <thead>\n",
       "    <tr style=\"text-align: right;\">\n",
       "      <th></th>\n",
       "      <th>Mean</th>\n",
       "      <th>Median</th>\n",
       "      <th>Variance</th>\n",
       "      <th>Standard Deviation</th>\n",
       "      <th>SEM</th>\n",
       "    </tr>\n",
       "    <tr>\n",
       "      <th>Drug_Regimen</th>\n",
       "      <th></th>\n",
       "      <th></th>\n",
       "      <th></th>\n",
       "      <th></th>\n",
       "      <th></th>\n",
       "    </tr>\n",
       "  </thead>\n",
       "  <tbody>\n",
       "    <tr>\n",
       "      <th>Capomulin</th>\n",
       "      <td>40.675741</td>\n",
       "      <td>41.557809</td>\n",
       "      <td>24.947764</td>\n",
       "      <td>4.994774</td>\n",
       "      <td>0.329346</td>\n",
       "    </tr>\n",
       "    <tr>\n",
       "      <th>Ceftamin</th>\n",
       "      <td>52.591172</td>\n",
       "      <td>51.776157</td>\n",
       "      <td>39.290177</td>\n",
       "      <td>6.268188</td>\n",
       "      <td>0.469821</td>\n",
       "    </tr>\n",
       "    <tr>\n",
       "      <th>Infubinol</th>\n",
       "      <td>52.884795</td>\n",
       "      <td>51.820584</td>\n",
       "      <td>43.128684</td>\n",
       "      <td>6.567243</td>\n",
       "      <td>0.492236</td>\n",
       "    </tr>\n",
       "    <tr>\n",
       "      <th>Ketapril</th>\n",
       "      <td>55.235638</td>\n",
       "      <td>53.698743</td>\n",
       "      <td>68.553577</td>\n",
       "      <td>8.279709</td>\n",
       "      <td>0.603860</td>\n",
       "    </tr>\n",
       "    <tr>\n",
       "      <th>Naftisol</th>\n",
       "      <td>54.331565</td>\n",
       "      <td>52.509285</td>\n",
       "      <td>66.173479</td>\n",
       "      <td>8.134708</td>\n",
       "      <td>0.596466</td>\n",
       "    </tr>\n",
       "    <tr>\n",
       "      <th>Placebo</th>\n",
       "      <td>54.033581</td>\n",
       "      <td>52.288934</td>\n",
       "      <td>61.168083</td>\n",
       "      <td>7.821003</td>\n",
       "      <td>0.581331</td>\n",
       "    </tr>\n",
       "    <tr>\n",
       "      <th>Propriva</th>\n",
       "      <td>52.382993</td>\n",
       "      <td>50.783528</td>\n",
       "      <td>43.220205</td>\n",
       "      <td>6.574208</td>\n",
       "      <td>0.526358</td>\n",
       "    </tr>\n",
       "    <tr>\n",
       "      <th>Ramicane</th>\n",
       "      <td>40.216745</td>\n",
       "      <td>40.673236</td>\n",
       "      <td>23.486704</td>\n",
       "      <td>4.846308</td>\n",
       "      <td>0.320955</td>\n",
       "    </tr>\n",
       "    <tr>\n",
       "      <th>Stelasyn</th>\n",
       "      <td>54.233149</td>\n",
       "      <td>52.431737</td>\n",
       "      <td>59.450562</td>\n",
       "      <td>7.710419</td>\n",
       "      <td>0.573111</td>\n",
       "    </tr>\n",
       "    <tr>\n",
       "      <th>Zoniferol</th>\n",
       "      <td>53.236507</td>\n",
       "      <td>51.818479</td>\n",
       "      <td>48.533355</td>\n",
       "      <td>6.966589</td>\n",
       "      <td>0.516398</td>\n",
       "    </tr>\n",
       "  </tbody>\n",
       "</table>\n",
       "</div>"
      ],
      "text/plain": [
       "                   Mean     Median   Variance  Standard Deviation       SEM\n",
       "Drug_Regimen                                                               \n",
       "Capomulin     40.675741  41.557809  24.947764            4.994774  0.329346\n",
       "Ceftamin      52.591172  51.776157  39.290177            6.268188  0.469821\n",
       "Infubinol     52.884795  51.820584  43.128684            6.567243  0.492236\n",
       "Ketapril      55.235638  53.698743  68.553577            8.279709  0.603860\n",
       "Naftisol      54.331565  52.509285  66.173479            8.134708  0.596466\n",
       "Placebo       54.033581  52.288934  61.168083            7.821003  0.581331\n",
       "Propriva      52.382993  50.783528  43.220205            6.574208  0.526358\n",
       "Ramicane      40.216745  40.673236  23.486704            4.846308  0.320955\n",
       "Stelasyn      54.233149  52.431737  59.450562            7.710419  0.573111\n",
       "Zoniferol     53.236507  51.818479  48.533355            6.966589  0.516398"
      ]
     },
     "execution_count": 54,
     "metadata": {},
     "output_type": "execute_result"
    }
   ],
   "source": [
    "# Generate a summary statistics table of mean, median, variance, standard deviation, \n",
    "# and SEM of the tumor volume for each regimen\n",
    "\n",
    "# Use groupby and summary statistical methods to calculate the following properties of each drug regimen: \n",
    "# mean, median, variance, standard deviation, and SEM of the tumor volume. \n",
    "# Assemble the resulting series into a single summary dataframe.\n",
    "\n",
    "# We group the data by Drug Regimen \n",
    "by_drug = data_clean.groupby(['Drug_Regimen'])\n",
    "\n",
    "# Calculate the mean of the tumor volume by Drug Regimen\n",
    "mean = by_drug.Tumor_Volume.mean()\n",
    "\n",
    "# Calculate the median of the tumor volume by Drug Regimen\n",
    "median = by_drug.Tumor_Volume.median()\n",
    "\n",
    "# Calculate the variance of the tumor volume by Drug Regimen\n",
    "variance =  by_drug.Tumor_Volume.var()\n",
    "\n",
    "# Calculate the standard deviation of the tumor volume by Drug Regimen\n",
    "sd = by_drug.Tumor_Volume.std()\n",
    "\n",
    "# Calculate the SEM of the tumor volume by Drug Regimen\n",
    "st_error = by_drug.Tumor_Volume.sem()\n",
    "\n",
    "# Create a data frame with the results\n",
    "pd.DataFrame({\"Mean\" : mean, \"Median\" : median, \"Variance\" : variance, \"Standard Deviation\" : sd, \"SEM\" : st_error})\n"
   ]
  },
  {
   "cell_type": "code",
   "execution_count": 55,
   "metadata": {},
   "outputs": [
    {
     "data": {
      "text/html": [
       "<div>\n",
       "<style scoped>\n",
       "    .dataframe tbody tr th:only-of-type {\n",
       "        vertical-align: middle;\n",
       "    }\n",
       "\n",
       "    .dataframe tbody tr th {\n",
       "        vertical-align: top;\n",
       "    }\n",
       "\n",
       "    .dataframe thead tr th {\n",
       "        text-align: left;\n",
       "    }\n",
       "\n",
       "    .dataframe thead tr:last-of-type th {\n",
       "        text-align: right;\n",
       "    }\n",
       "</style>\n",
       "<table border=\"1\" class=\"dataframe\">\n",
       "  <thead>\n",
       "    <tr>\n",
       "      <th></th>\n",
       "      <th colspan=\"5\" halign=\"left\">Tumor_Volume</th>\n",
       "    </tr>\n",
       "    <tr>\n",
       "      <th></th>\n",
       "      <th>mean</th>\n",
       "      <th>median</th>\n",
       "      <th>var</th>\n",
       "      <th>std</th>\n",
       "      <th>sem</th>\n",
       "    </tr>\n",
       "    <tr>\n",
       "      <th>Drug_Regimen</th>\n",
       "      <th></th>\n",
       "      <th></th>\n",
       "      <th></th>\n",
       "      <th></th>\n",
       "      <th></th>\n",
       "    </tr>\n",
       "  </thead>\n",
       "  <tbody>\n",
       "    <tr>\n",
       "      <th>Capomulin</th>\n",
       "      <td>40.675741</td>\n",
       "      <td>41.557809</td>\n",
       "      <td>24.947764</td>\n",
       "      <td>4.994774</td>\n",
       "      <td>0.329346</td>\n",
       "    </tr>\n",
       "    <tr>\n",
       "      <th>Ceftamin</th>\n",
       "      <td>52.591172</td>\n",
       "      <td>51.776157</td>\n",
       "      <td>39.290177</td>\n",
       "      <td>6.268188</td>\n",
       "      <td>0.469821</td>\n",
       "    </tr>\n",
       "    <tr>\n",
       "      <th>Infubinol</th>\n",
       "      <td>52.884795</td>\n",
       "      <td>51.820584</td>\n",
       "      <td>43.128684</td>\n",
       "      <td>6.567243</td>\n",
       "      <td>0.492236</td>\n",
       "    </tr>\n",
       "    <tr>\n",
       "      <th>Ketapril</th>\n",
       "      <td>55.235638</td>\n",
       "      <td>53.698743</td>\n",
       "      <td>68.553577</td>\n",
       "      <td>8.279709</td>\n",
       "      <td>0.603860</td>\n",
       "    </tr>\n",
       "    <tr>\n",
       "      <th>Naftisol</th>\n",
       "      <td>54.331565</td>\n",
       "      <td>52.509285</td>\n",
       "      <td>66.173479</td>\n",
       "      <td>8.134708</td>\n",
       "      <td>0.596466</td>\n",
       "    </tr>\n",
       "    <tr>\n",
       "      <th>Placebo</th>\n",
       "      <td>54.033581</td>\n",
       "      <td>52.288934</td>\n",
       "      <td>61.168083</td>\n",
       "      <td>7.821003</td>\n",
       "      <td>0.581331</td>\n",
       "    </tr>\n",
       "    <tr>\n",
       "      <th>Propriva</th>\n",
       "      <td>52.382993</td>\n",
       "      <td>50.783528</td>\n",
       "      <td>43.220205</td>\n",
       "      <td>6.574208</td>\n",
       "      <td>0.526358</td>\n",
       "    </tr>\n",
       "    <tr>\n",
       "      <th>Ramicane</th>\n",
       "      <td>40.216745</td>\n",
       "      <td>40.673236</td>\n",
       "      <td>23.486704</td>\n",
       "      <td>4.846308</td>\n",
       "      <td>0.320955</td>\n",
       "    </tr>\n",
       "    <tr>\n",
       "      <th>Stelasyn</th>\n",
       "      <td>54.233149</td>\n",
       "      <td>52.431737</td>\n",
       "      <td>59.450562</td>\n",
       "      <td>7.710419</td>\n",
       "      <td>0.573111</td>\n",
       "    </tr>\n",
       "    <tr>\n",
       "      <th>Zoniferol</th>\n",
       "      <td>53.236507</td>\n",
       "      <td>51.818479</td>\n",
       "      <td>48.533355</td>\n",
       "      <td>6.966589</td>\n",
       "      <td>0.516398</td>\n",
       "    </tr>\n",
       "  </tbody>\n",
       "</table>\n",
       "</div>"
      ],
      "text/plain": [
       "             Tumor_Volume                                          \n",
       "                     mean     median        var       std       sem\n",
       "Drug_Regimen                                                       \n",
       "Capomulin       40.675741  41.557809  24.947764  4.994774  0.329346\n",
       "Ceftamin        52.591172  51.776157  39.290177  6.268188  0.469821\n",
       "Infubinol       52.884795  51.820584  43.128684  6.567243  0.492236\n",
       "Ketapril        55.235638  53.698743  68.553577  8.279709  0.603860\n",
       "Naftisol        54.331565  52.509285  66.173479  8.134708  0.596466\n",
       "Placebo         54.033581  52.288934  61.168083  7.821003  0.581331\n",
       "Propriva        52.382993  50.783528  43.220205  6.574208  0.526358\n",
       "Ramicane        40.216745  40.673236  23.486704  4.846308  0.320955\n",
       "Stelasyn        54.233149  52.431737  59.450562  7.710419  0.573111\n",
       "Zoniferol       53.236507  51.818479  48.533355  6.966589  0.516398"
      ]
     },
     "execution_count": 55,
     "metadata": {},
     "output_type": "execute_result"
    }
   ],
   "source": [
    "# Using the aggregation method, produce the same summary statistics in a single line\n",
    "data_clean.groupby(['Drug_Regimen']).agg({'Tumor_Volume':['mean','median','var','std','sem']})"
   ]
  },
  {
   "cell_type": "markdown",
   "metadata": {},
   "source": [
    "**BAR AND PIE CHARTS**"
   ]
  },
  {
   "cell_type": "code",
   "execution_count": 56,
   "metadata": {},
   "outputs": [
    {
     "data": {
      "text/plain": [
       "(0.0, 240.0)"
      ]
     },
     "execution_count": 56,
     "metadata": {},
     "output_type": "execute_result"
    },
    {
     "data": {
      "image/png": "[encoded data removed]",
      "text/plain": [
       "<Figure size 432x288 with 1 Axes>"
      ]
     },
     "metadata": {
      "needs_background": "light"
     },
     "output_type": "display_data"
    }
   ],
   "source": [
    "# Generate a bar plot showing the total number of measurements taken on each drug regimen using pandas.\n",
    "\n",
    "# Count the number of measurements taken for each drug regimen\n",
    "measurements = data_clean['Drug_Regimen'].value_counts()\n",
    "\n",
    "# Plot\n",
    "measurements.plot(kind='bar', title ='Measurements per drug regimen', facecolor = 'b', width = 0.8)\n",
    "plt.xlabel('Drug Regimen') #x axis label\n",
    "plt.ylabel('# of Mesurements') #y axis label\n",
    "plt.xlim(-1, len(measurements)) #x axis limit\n",
    "plt.ylim(0,240) #y axis limit"
   ]
  },
  {
   "cell_type": "code",
   "execution_count": 57,
   "metadata": {},
   "outputs": [
    {
     "data": {
      "text/plain": [
       "(0.0, 240.0)"
      ]
     },
     "execution_count": 57,
     "metadata": {},
     "output_type": "execute_result"
    },
    {
     "data": {
      "image/png": "[encoded data removed]",
      "text/plain": [
       "<Figure size 432x288 with 1 Axes>"
      ]
     },
     "metadata": {
      "needs_background": "light"
     },
     "output_type": "display_data"
    }
   ],
   "source": [
    "# Generate a bar plot showing the total number of measurements taken on each drug regimen using pyplot.\n",
    "\n",
    "# Plot\n",
    "plt.bar(measurements.index.tolist(),measurements, color = 'b', width = 0.8)\n",
    "plt.xticks(rotation='vertical') #Rotation of x ticks\n",
    "plt.title('Measurements per drug regimen') #Title \n",
    "plt.xlabel('Drug Regimen') #x axis label\n",
    "plt.ylabel('# of Mesurements')#y axis label\n",
    "plt.xlim(-1, len(measurements)) #x axis limit\n",
    "plt.ylim(0,240) #y axis limit"
   ]
  },
  {
   "cell_type": "code",
   "execution_count": 58,
   "metadata": {},
   "outputs": [
    {
     "data": {
      "text/plain": [
       "<matplotlib.axes._subplots.AxesSubplot at 0x25f7e1f4240>"
      ]
     },
     "execution_count": 58,
     "metadata": {},
     "output_type": "execute_result"
    },
    {
     "data": {
      "image/png": "[encoded data removed]",
      "text/plain": [
       "<Figure size 432x288 with 1 Axes>"
      ]
     },
     "metadata": {},
     "output_type": "display_data"
    }
   ],
   "source": [
    "# Generate a pie plot showing the distribution of female versus male mice using pandas\n",
    "\n",
    "# Count of male and female mice\n",
    "gender = mouse_metadata['Sex'].value_counts()\n",
    "\n",
    "# Plot\n",
    "gender.plot(kind='pie', title ='Distribution of female vs male mice',  autopct=\"%1.1f%%\")"
   ]
  },
  {
   "cell_type": "code",
   "execution_count": 59,
   "metadata": {},
   "outputs": [
    {
     "data": {
      "text/plain": [
       "Text(0, 0.5, 'Sex')"
      ]
     },
     "execution_count": 59,
     "metadata": {},
     "output_type": "execute_result"
    },
    {
     "data": {
      "image/png": "[encoded data removed]",
      "text/plain": [
       "<Figure size 432x288 with 1 Axes>"
      ]
     },
     "metadata": {},
     "output_type": "display_data"
    }
   ],
   "source": [
    "# Generate a pie plot showing the distribution of female versus male mice using pyplot\n",
    "\n",
    "# Get the names of the categories\n",
    "labels = gender.index.tolist()\n",
    "\n",
    "# Plot\n",
    "plt.pie(gender, labels=labels,  autopct=\"%1.1f%%\")\n",
    "plt.title('Distribution of female vs male mice') #Add title\n",
    "plt.ylabel('Sex') #Add y axis label\n"
   ]
  },
  {
   "cell_type": "markdown",
   "metadata": {},
   "source": [
    "**QUARTILES, OUTLIERS AND BOXPLOTS**"
   ]
  },
  {
   "cell_type": "code",
   "execution_count": 60,
   "metadata": {},
   "outputs": [
    {
     "data": {
      "text/html": [
       "<div>\n",
       "<style scoped>\n",
       "    .dataframe tbody tr th:only-of-type {\n",
       "        vertical-align: middle;\n",
       "    }\n",
       "\n",
       "    .dataframe tbody tr th {\n",
       "        vertical-align: top;\n",
       "    }\n",
       "\n",
       "    .dataframe thead th {\n",
       "        text-align: right;\n",
       "    }\n",
       "</style>\n",
       "<table border=\"1\" class=\"dataframe\">\n",
       "  <thead>\n",
       "    <tr style=\"text-align: right;\">\n",
       "      <th></th>\n",
       "      <th>Mouse ID</th>\n",
       "      <th>Drug_Regimen</th>\n",
       "      <th>Sex</th>\n",
       "      <th>Age_months</th>\n",
       "      <th>Weight</th>\n",
       "      <th>Timepoint</th>\n",
       "      <th>Tumor_Volume</th>\n",
       "      <th>Metastatic_Sites</th>\n",
       "    </tr>\n",
       "  </thead>\n",
       "  <tbody>\n",
       "    <tr>\n",
       "      <th>1583</th>\n",
       "      <td>u153</td>\n",
       "      <td>Ceftamin</td>\n",
       "      <td>Female</td>\n",
       "      <td>11</td>\n",
       "      <td>25</td>\n",
       "      <td>0</td>\n",
       "      <td>45.000000</td>\n",
       "      <td>0</td>\n",
       "    </tr>\n",
       "    <tr>\n",
       "      <th>594</th>\n",
       "      <td>b447</td>\n",
       "      <td>Ceftamin</td>\n",
       "      <td>Male</td>\n",
       "      <td>2</td>\n",
       "      <td>30</td>\n",
       "      <td>0</td>\n",
       "      <td>45.000000</td>\n",
       "      <td>0</td>\n",
       "    </tr>\n",
       "    <tr>\n",
       "      <th>1743</th>\n",
       "      <td>x226</td>\n",
       "      <td>Ceftamin</td>\n",
       "      <td>Male</td>\n",
       "      <td>23</td>\n",
       "      <td>28</td>\n",
       "      <td>0</td>\n",
       "      <td>45.000000</td>\n",
       "      <td>0</td>\n",
       "    </tr>\n",
       "    <tr>\n",
       "      <th>1551</th>\n",
       "      <td>t573</td>\n",
       "      <td>Ceftamin</td>\n",
       "      <td>Female</td>\n",
       "      <td>15</td>\n",
       "      <td>27</td>\n",
       "      <td>0</td>\n",
       "      <td>45.000000</td>\n",
       "      <td>0</td>\n",
       "    </tr>\n",
       "    <tr>\n",
       "      <th>940</th>\n",
       "      <td>h531</td>\n",
       "      <td>Ceftamin</td>\n",
       "      <td>Male</td>\n",
       "      <td>5</td>\n",
       "      <td>27</td>\n",
       "      <td>5</td>\n",
       "      <td>47.784682</td>\n",
       "      <td>0</td>\n",
       "    </tr>\n",
       "  </tbody>\n",
       "</table>\n",
       "</div>"
      ],
      "text/plain": [
       "     Mouse ID Drug_Regimen     Sex  Age_months  Weight  Timepoint  \\\n",
       "1583     u153     Ceftamin  Female          11      25          0   \n",
       "594      b447     Ceftamin    Male           2      30          0   \n",
       "1743     x226     Ceftamin    Male          23      28          0   \n",
       "1551     t573     Ceftamin  Female          15      27          0   \n",
       "940      h531     Ceftamin    Male           5      27          5   \n",
       "\n",
       "      Tumor_Volume  Metastatic_Sites  \n",
       "1583     45.000000                 0  \n",
       "594      45.000000                 0  \n",
       "1743     45.000000                 0  \n",
       "1551     45.000000                 0  \n",
       "940      47.784682                 0  "
      ]
     },
     "execution_count": 60,
     "metadata": {},
     "output_type": "execute_result"
    }
   ],
   "source": [
    "# Calculate the final tumor volume of each mouse across four of the treatment regimens:  \n",
    "# Capomulin, Ramicane, Infubinol, and Ceftamin\n",
    "\n",
    "# List of the promising treatment regimens \n",
    "p_treatments = ['Capomulin','Ramicane','Infubinol', 'Ceftamin']\n",
    "\n",
    "# Sort the data by Timepoint in ascending order and identify the last observations per mouse by getting rid of\n",
    "# the first observations.\n",
    "f_points = data_clean.sort_values(by = \"Timepoint\").drop_duplicates(subset=[\"Mouse ID\"], keep=\"last\")  \n",
    "\n",
    "# Get the data of the measurements of the four promising treatment regimens\n",
    "fp_points = f_points[f_points.Drug_Regimen.isin(p_treatments)]\n",
    "\n",
    "# Check the data\n",
    "fp_points.head()\n"
   ]
  },
  {
   "cell_type": "code",
   "execution_count": 61,
   "metadata": {},
   "outputs": [
    {
     "name": "stdout",
     "output_type": "stream",
     "text": [
      "------------------------------------------------------------------------------------------\n",
      "The interquartile range of the tumor volume for the Capomulin treatment is: 7.78\n",
      "Values below 20.7 could be outliers for the Capomulin treatment.\n",
      "Values above 51.83 could be outliers for the Capomulin treatment.\n",
      "------------------------------------------------------------------------------------------\n",
      "------------------------------------------------------------------------------------------\n",
      "The interquartile range of the tumor volume for the Ramicane treatment is: 9.1\n",
      "Values below 17.91 could be outliers for the Ramicane treatment.\n",
      "Values above 54.31 could be outliers for the Ramicane treatment.\n",
      "------------------------------------------------------------------------------------------\n",
      "------------------------------------------------------------------------------------------\n",
      "The interquartile range of the tumor volume for the Infubinol treatment is: 11.48\n",
      "Values below 36.83 could be outliers for the Infubinol treatment.\n",
      "Values above 82.74 could be outliers for the Infubinol treatment.\n",
      "------------------------------------------------------------------------------------------\n",
      "------------------------------------------------------------------------------------------\n",
      "The interquartile range of the tumor volume for the Ceftamin treatment is: 15.58\n",
      "Values below 25.36 could be outliers for the Ceftamin treatment.\n",
      "Values above 87.67 could be outliers for the Ceftamin treatment.\n",
      "------------------------------------------------------------------------------------------\n"
     ]
    }
   ],
   "source": [
    "# Create a data frame only with the variables needed\n",
    "df_fil = fp_points[['Mouse ID', 'Drug_Regimen', 'Tumor_Volume']]\n",
    "\n",
    "# For loop to calculate IQR and determine the outliers\n",
    "for treatment in p_treatments:\n",
    "    if treatment == 'Capomulin':\n",
    "        ca_data = df_fil[df_fil['Drug_Regimen'] == treatment]\n",
    "        ca_vol = ca_data['Tumor_Volume']\n",
    "        ca_quar = ca_vol.quantile([.25,.5,.75])\n",
    "        ca_lowerq = ca_quar[0.25]\n",
    "        ca_upperq = ca_quar[0.75]\n",
    "        ca_iqr = ca_upperq-ca_lowerq\n",
    "        ca_lbound = ca_lowerq - (1.5*ca_iqr)\n",
    "        ca_ubound = ca_upperq + (1.5*ca_iqr)\n",
    "        print('------------------------------------------------------------------------------------------')\n",
    "        print(f\"The interquartile range of the tumor volume for the {treatment} treatment is: {round(ca_iqr,2)}\")\n",
    "        print(f\"Values below {round(ca_lbound,2)} could be outliers for the {treatment} treatment.\")\n",
    "        print(f\"Values above {round(ca_ubound,2)} could be outliers for the {treatment} treatment.\")\n",
    "        print('------------------------------------------------------------------------------------------')\n",
    "  \n",
    "    elif treatment == 'Ramicane':\n",
    "        r_data = df_fil[df_fil['Drug_Regimen'] == treatment]\n",
    "        r_vol = r_data['Tumor_Volume']\n",
    "        r_quar = r_vol.quantile([.25,.5,.75])\n",
    "        r_lowerq = r_quar[0.25]\n",
    "        r_upperq = r_quar[0.75]\n",
    "        r_iqr = r_upperq-r_lowerq\n",
    "        r_lbound = r_lowerq - (1.5*r_iqr)\n",
    "        r_ubound = r_upperq + (1.5*r_iqr)\n",
    "        print('------------------------------------------------------------------------------------------')\n",
    "        print(f\"The interquartile range of the tumor volume for the {treatment} treatment is: {round(r_iqr,2)}\")\n",
    "        print(f\"Values below {round(r_lbound,2)} could be outliers for the {treatment} treatment.\")\n",
    "        print(f\"Values above {round(r_ubound,2)} could be outliers for the {treatment} treatment.\")\n",
    "        print('------------------------------------------------------------------------------------------')\n",
    "\n",
    "    elif treatment == 'Infubinol':\n",
    "        i_data = df_fil[df_fil['Drug_Regimen'] == treatment]\n",
    "        i_vol = i_data['Tumor_Volume']\n",
    "        i_data = df_fil[df_fil['Drug_Regimen'] == treatment]\n",
    "        i_vol = i_data['Tumor_Volume']\n",
    "        i_quar = i_vol.quantile([.25,.5,.75])\n",
    "        i_lowerq = i_quar[0.25]\n",
    "        i_upperq = i_quar[0.75]\n",
    "        i_iqr = i_upperq-i_lowerq\n",
    "        i_lbound = i_lowerq - (1.5*i_iqr)\n",
    "        i_ubound = i_upperq + (1.5*i_iqr)\n",
    "        print('------------------------------------------------------------------------------------------')\n",
    "        print(f\"The interquartile range of the tumor volume for the {treatment} treatment is: {round(i_iqr,2)}\")\n",
    "        print(f\"Values below {round(i_lbound,2)} could be outliers for the {treatment} treatment.\")\n",
    "        print(f\"Values above {round(i_ubound,2)} could be outliers for the {treatment} treatment.\")\n",
    "        print('------------------------------------------------------------------------------------------')\n",
    "   \n",
    "    else:\n",
    "        ce_data = df_fil[df_fil['Drug_Regimen'] == treatment]\n",
    "        ce_vol = ce_data['Tumor_Volume']\n",
    "        ce_quar = ce_vol.quantile([.25,.5,.75])\n",
    "        ce_lowerq = ce_quar[0.25]\n",
    "        ce_upperq = ce_quar[0.75]\n",
    "        ce_iqr = ce_upperq-ce_lowerq\n",
    "        ce_lbound = ce_lowerq - (1.5*ce_iqr)\n",
    "        ce_ubound = ce_upperq + (1.5*ce_iqr)\n",
    "        print('------------------------------------------------------------------------------------------')\n",
    "        print(f\"The interquartile range of the tumor volume for the {treatment} treatment is: {round(ce_iqr,2)}\")\n",
    "        print(f\"Values below {round(ce_lbound,2)} could be outliers for the {treatment} treatment.\")\n",
    "        print(f\"Values above {round(ce_ubound,2)} could be outliers for the {treatment} treatment.\")\n",
    "        print('------------------------------------------------------------------------------------------')\n"
   ]
  },
  {
   "cell_type": "code",
   "execution_count": 62,
   "metadata": {},
   "outputs": [
    {
     "data": {
      "image/png": "[encoded data removed]",
      "text/plain": [
       "<Figure size 432x288 with 1 Axes>"
      ]
     },
     "metadata": {
      "needs_background": "light"
     },
     "output_type": "display_data"
    }
   ],
   "source": [
    "# Generate a box plot of the final tumor volume of each mouse across four regimens of interest\n",
    "red_diamond = dict(markerfacecolor='r', marker='D') #Define the outliers style\n",
    "fig1, ax1 = plt.subplots()\n",
    "ax1.set_title('Final Tumor Volume per Treatment Regimen ') #Title \n",
    "ax1.set_ylabel('Tumor Volume (mm3)')#y axis label\n",
    "ax1.boxplot([ca_vol, r_vol, i_vol, ce_vol], flierprops=red_diamond,labels = p_treatments, patch_artist = True) #create boxplot\n",
    "plt.show()"
   ]
  },
  {
   "cell_type": "markdown",
   "metadata": {},
   "source": [
    "**LINE AND SCATTER PLOTSS**"
   ]
  },
  {
   "cell_type": "code",
   "execution_count": 63,
   "metadata": {},
   "outputs": [
    {
     "data": {
      "text/plain": [
       "<function matplotlib.pyplot.show(*args, **kw)>"
      ]
     },
     "execution_count": 63,
     "metadata": {},
     "output_type": "execute_result"
    },
    {
     "data": {
      "image/png": "[encoded data removed]",
      "text/plain": [
       "<Figure size 432x288 with 1 Axes>"
      ]
     },
     "metadata": {
      "needs_background": "light"
     },
     "output_type": "display_data"
    }
   ],
   "source": [
    "# Generate a line plot of tumor volume vs. time point for a mouse treated with Capomulin\n",
    "\n",
    "# Select Capomulin data from the clean data frame\n",
    "capo_data = data_clean[data_clean['Drug_Regimen'] == 'Capomulin']\n",
    "\n",
    "# Pick a random mouse that was treated with Capomulin\n",
    "mouse_selected = rd.choice(capo_data['Mouse ID'].unique())\n",
    "\n",
    "# Get the data of the mouse that was randomly picked\n",
    "mouse_df = capo_data[capo_data['Mouse ID'] == mouse_selected]\n",
    "\n",
    "# Generate a line plot of tumor volume vs. time point for a randomly picked mouse treated with Capomulin\n",
    "plt.plot(mouse_df['Timepoint'], mouse_df['Tumor_Volume'], color ='red', label = 'Tumor Volume', lw = 3)\n",
    "plt.legend(loc=\"best\")\n",
    "plt.title('Tumor Volume Changes for ' + mouse_selected + ' mouse')\n",
    "plt.xlabel('Time Points')\n",
    "plt.xticks(np.arange(min(mouse_df['Timepoint']), max(mouse_df['Timepoint'])+1, 5))\n",
    "plt.ylabel('Tumor Volume (mm3)')\n",
    "plt.show\n"
   ]
  },
  {
   "cell_type": "code",
   "execution_count": 64,
   "metadata": {},
   "outputs": [
    {
     "data": {
      "image/png": "[encoded data removed]",
      "text/plain": [
       "<Figure size 432x288 with 1 Axes>"
      ]
     },
     "metadata": {
      "needs_background": "light"
     },
     "output_type": "display_data"
    }
   ],
   "source": [
    "# Generate a scatter plot of average tumor volume vs. mouse weight for the Capomulin regimen\n",
    "\n",
    "# Create a new data frame where the average tumor volume is calculated for each mouse \n",
    "scatter_data = capo_data.groupby(['Mouse ID']).agg({'Tumor_Volume':'mean', 'Weight' : 'mean'})\n",
    "\n",
    "# Generate the scatter plot\n",
    "scatter_data.plot(kind='scatter', x = 'Tumor_Volume', y = 'Weight', \n",
    "                  title = 'Average Tumor Volume vs. Mouse Weight for the Capomulin Regimen')\n",
    "plt.show()"
   ]
  },
  {
   "cell_type": "markdown",
   "metadata": {},
   "source": [
    "**CORRELATION AND REGRESSION**"
   ]
  },
  {
   "cell_type": "code",
   "execution_count": 65,
   "metadata": {},
   "outputs": [
    {
     "name": "stdout",
     "output_type": "stream",
     "text": [
      "The correlation coefficient between mouse weight and average tumor volume is 0.84\n"
     ]
    }
   ],
   "source": [
    "# Calculate the correlation coefficient and linear regression model \n",
    "# for mouse weight and average tumor volume for the Capomulin regimen\n",
    "\n",
    "weight = scatter_data.Weight #define weight variable\n",
    "volume = scatter_data.Tumor_Volume #define solume variable\n",
    "\n",
    "correlation = st.pearsonr(volume,weight) #calculate the correlation coefficient\n",
    "\n",
    "#Print results\n",
    "print(f\"The correlation coefficient between mouse weight and average tumor volume is {round(correlation[0],2)}\")\n"
   ]
  },
  {
   "cell_type": "code",
   "execution_count": 47,
   "metadata": {},
   "outputs": [
    {
     "data": {
      "image/png": "[encoded data removed]",
      "text/plain": [
       "<Figure size 432x288 with 1 Axes>"
      ]
     },
     "metadata": {
      "needs_background": "light"
     },
     "output_type": "display_data"
    }
   ],
   "source": [
    "# Linear regression on weight versus average tumor volume for the Capomulin regime\n",
    "(slope, intercept, rvalue, pvalue, std_err) = st.linregress(volume,weight)\n",
    "\n",
    "# Create equation of line to calculate predicted weight\n",
    "weight_fit = slope * volume + intercept\n",
    "\n",
    "# Plot the linear regression model on top of the previous scatter plot\n",
    "scatter_data.plot(kind='scatter', x = 'Tumor_Volume', y = 'Weight', \n",
    "                  title = 'Average Tumor Volume vs. Mouse Weight for the Capomulin Regimen')\n",
    "plt.plot(volume, weight_fit,\"--\")\n",
    "plt.show()\n"
   ]
  }
 ],
 "metadata": {
  "celltoolbar": "Raw Cell Format",
  "kernelspec": {
   "display_name": "Python [conda env:pythonData]",
   "language": "python",
   "name": "conda-env-pythonData-py"
  },
  "language_info": {
   "codemirror_mode": {
    "name": "ipython",
    "version": 3
   },
   "file_extension": ".py",
   "mimetype": "text/x-python",
   "name": "python",
   "nbconvert_exporter": "python",
   "pygments_lexer": "ipython3",
   "version": "3.6.10"
  }
 },
 "nbformat": 4,
 "nbformat_minor": 4
}
