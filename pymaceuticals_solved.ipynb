{
 "cells": [
  {
   "cell_type": "code",
   "execution_count": null,
   "metadata": {},
   "outputs": [],
   "source": [
    "# Import dependencies\n",
    "import matplotlib.pyplot as plt\n",
    "import pandas as pd\n",
    "import numpy as np\n",
    "import random as rd\n",
    "import scipy.stats as st\n",
    "\n",
    "# Data files path\n",
    "mouse_metadata_path = \"data/Mouse_metadata.csv\"\n",
    "study_results_path = \"data/Study_results.csv\"\n",
    "\n",
    "# Read the mouse data and the study results\n",
    "mouse_metadata = pd.read_csv(mouse_metadata_path)\n",
    "study_results = pd.read_csv(study_results_path)\n",
    "\n",
    "# Combine the data into a single dataset\n",
    "data = pd.merge(mouse_metadata,study_results, on = \"Mouse ID\")\n",
    "\n",
    "# Display the data table for preview\n",
    "data.head()"
   ]
  },
  {
   "cell_type": "code",
   "execution_count": null,
   "metadata": {},
   "outputs": [],
   "source": [
    "# Checking the number of mice\n",
    "mice = len(data[\"Mouse ID\"].unique())\n",
    "print(f\"{mice} mice were observed in this study\")"
   ]
  },
  {
   "cell_type": "code",
   "execution_count": null,
   "metadata": {},
   "outputs": [],
   "source": [
    "# Getting the duplicate mice by ID number that shows up for Mouse ID and Timepoint.\n",
    "# This command generates a boolean variable that turns True when the Mouse ID is duplicate on the same Timepoint\n",
    "duplicates= data.duplicated(subset=['Mouse ID', 'Timepoint'])"
   ]
  },
  {
   "cell_type": "code",
   "execution_count": null,
   "metadata": {},
   "outputs": [],
   "source": [
    "# Optional: Get all the data for the duplicate mouse ID.\n",
    "# According to the boolean variable generated we get the rest of the data for the duplicated cases\n",
    "duplicate_mice = data[duplicates]\n",
    "duplicate_mice"
   ]
  },
  {
   "cell_type": "code",
   "execution_count": null,
   "metadata": {},
   "outputs": [],
   "source": [
    "# Create a clean DataFrame by dropping the duplicate mouse by its ID\n",
    "\n",
    "# In order to preserve data of the 249 mice we keep the last measurement of the duplicate mouse from each timepoint \n",
    "data_clean = data.drop_duplicates(subset=['Mouse ID', 'Timepoint'], keep='last')\n",
    "\n",
    "# We rename the columns for easier manipulation\n",
    "data_clean = data_clean.rename(columns = {'Drug Regimen': 'Drug_Regimen','Weight (g)' : 'Weight', \n",
    "                                          'Tumor Volume (mm3)': 'Tumor_Volume',\n",
    "                                          'Metastatic Sites' : 'Metastatic_Sites'})\n",
    "data_clean.head()"
   ]
  },
  {
   "cell_type": "code",
   "execution_count": null,
   "metadata": {},
   "outputs": [],
   "source": [
    "# Checking the number of mice in the clean DataFrame.\n",
    "\n",
    "clean_mice =  len(data_clean[\"Mouse ID\"].unique())\n",
    "print(f\"{clean_mice} mice were observed in this study, after cleaning the database\")"
   ]
  },
  {
   "cell_type": "code",
   "execution_count": null,
   "metadata": {},
   "outputs": [],
   "source": [
    "# Generate a summary statistics table of mean, median, variance, standard deviation, and SEM of the tumor volume for each regimen\n",
    "\n",
    "# Use groupby and summary statistical methods to calculate the following properties of each drug regimen: \n",
    "# mean, median, variance, standard deviation, and SEM of the tumor volume. \n",
    "# Assemble the resulting series into a single summary dataframe.\n",
    "\n",
    "# We group the data by Drug Regimen \n",
    "by_drug = data_clean.groupby(['Drug_Regimen'])\n",
    "\n",
    "# Calculate the mean of the tumor volume by Drug Regimen\n",
    "mean = by_drug.Tumor_Volume.mean()\n",
    "\n",
    "# Calculate the median of the tumor volume by Drug Regimen\n",
    "median = by_drug.Tumor_Volume.median()\n",
    "\n",
    "# Calculate the variance of the tumor volume by Drug Regimen\n",
    "variance =  by_drug.Tumor_Volume.var()\n",
    "\n",
    "# Calculate the standard deviation of the tumor volume by Drug Regimen\n",
    "sd = by_drug.Tumor_Volume.std()\n",
    "\n",
    "# Calculate the SEM of the tumor volume by Drug Regimen\n",
    "st_error = by_drug.Tumor_Volume.sem()\n",
    "\n",
    "# Create a data frame with the results\n",
    "pd.DataFrame({\"Mean\" : mean, \"Median\" : median, \"Variance\" : variance, \"Standard Deviation\" : sd, \"SEM\" : st_error})\n"
   ]
  },
  {
   "cell_type": "code",
   "execution_count": null,
   "metadata": {},
   "outputs": [],
   "source": [
    "# Generate a bar plot showing the total number of measurements taken on each drug regimen using pandas.\n",
    "measurements = data_clean['Drug_Regimen'].value_counts()\n",
    "measurements.plot(kind='bar', title ='Measurements per drug regimen', facecolor = 'b', width = 0.8)\n",
    "plt.xlabel('Drug Regimen')\n",
    "plt.ylabel('# of Mesurements')\n",
    "plt.xlim(-1, len(measurements))\n",
    "plt.ylim(0,240)"
   ]
  },
  {
   "cell_type": "code",
   "execution_count": null,
   "metadata": {},
   "outputs": [],
   "source": [
    "# Generate a bar plot showing the total number of measurements taken on each drug regimen using pyplot.\n",
    "plt.bar(measurements.index.tolist(),measurements, color = 'b', width = 0.8)\n",
    "plt.xticks(rotation='vertical')\n",
    "plt.title('Measurements per drug regimen')\n",
    "plt.xlabel('Drug Regimen')\n",
    "plt.ylabel('# of Mesurements')\n",
    "plt.xlim(-1, len(measurements))\n",
    "plt.ylim(0,240)"
   ]
  },
  {
   "cell_type": "code",
   "execution_count": null,
   "metadata": {},
   "outputs": [],
   "source": [
    "# Generate a pie plot showing the distribution of female versus male mice using pandas\n",
    "gender = data_clean['Sex'].value_counts()\n",
    "gender.plot(kind='pie', title ='Distribution of female vs male mice',  autopct=\"%1.1f%%\")"
   ]
  },
  {
   "cell_type": "code",
   "execution_count": null,
   "metadata": {},
   "outputs": [],
   "source": [
    "# Generate a pie plot showing the distribution of female versus male mice using pyplot\n",
    "labels = gender.index.tolist()\n",
    "plt.pie(gender, labels=labels,  autopct=\"%1.1f%%\")\n",
    "plt.title('Distribution of female vs male mice')\n",
    "plt.ylabel('Sex')\n"
   ]
  },
  {
   "cell_type": "code",
   "execution_count": null,
   "metadata": {},
   "outputs": [],
   "source": [
    "# Calculate the final tumor volume of each mouse across four of the treatment regimens:  \n",
    "# Capomulin, Ramicane, Infubinol, and Ceftamin\n",
    "\n",
    "# List of the promising treatment regimens \n",
    "p_treatments = ['Capomulin','Ramicane','Infubinol', 'Ceftamin']\n",
    "\n",
    "# Sort the data by Timepoint in ascending order and identify the last observations per mouse by getting rid of\n",
    "# the first observations.\n",
    "f_points = data_clean.sort_values(by = \"Timepoint\").drop_duplicates(subset=[\"Mouse ID\"], keep=\"last\")  \n",
    "\n",
    "# Get the data of the measurements of the four promising treatment regimens\n",
    "fp_points = f_points[f_points.Drug_Regimen.isin(p_treatments)]\n",
    "\n",
    "fp_points\n"
   ]
  },
  {
   "cell_type": "code",
   "execution_count": null,
   "metadata": {},
   "outputs": [],
   "source": [
    "df_fil = fp_points[['Mouse ID', 'Drug_Regimen', 'Tumor_Volume']]\n",
    "\n",
    "for treatment in p_treatments:\n",
    "    if treatment == 'Capomulin':\n",
    "        ca_data = df_fil[df_fil['Drug_Regimen'] == treatment]\n",
    "        ca_vol = ca_data['Tumor_Volume']\n",
    "        ca_quar = ca_vol.quantile([.25,.5,.75])\n",
    "        ca_lowerq = ca_quar[0.25]\n",
    "        ca_upperq = ca_quar[0.75]\n",
    "        ca_iqr = ca_upperq-ca_lowerq\n",
    "        ca_lbound = ca_lowerq - (1.5*ca_iqr)\n",
    "        ca_ubound = ca_upperq + (1.5*ca_iqr)\n",
    "        print('------------------------------------------------------------------------------------------')\n",
    "        print(f\"The interquartile range of the tumor volume for the {treatment} treatment is: {round(ca_iqr,2)}\")\n",
    "        print(f\"Values below {round(ca_lbound,2)} could be outliers for the {treatment} treatment.\")\n",
    "        print(f\"Values above {round(ca_ubound,2)} could be outliers for the {treatment} treatment.\")\n",
    "        print('------------------------------------------------------------------------------------------')\n",
    "  \n",
    "    elif treatment == 'Ramicane':\n",
    "        r_data = df_fil[df_fil['Drug_Regimen'] == treatment]\n",
    "        r_vol = r_data['Tumor_Volume']\n",
    "        r_quar = r_vol.quantile([.25,.5,.75])\n",
    "        r_lowerq = r_quar[0.25]\n",
    "        r_upperq = r_quar[0.75]\n",
    "        r_iqr = r_upperq-r_lowerq\n",
    "        r_lbound = r_lowerq - (1.5*r_iqr)\n",
    "        r_ubound = r_upperq + (1.5*r_iqr)\n",
    "        print('------------------------------------------------------------------------------------------')\n",
    "        print(f\"The interquartile range of the tumor volume for the {treatment} treatment is: {round(r_iqr,2)}\")\n",
    "        print(f\"Values below {round(r_lbound,2)} could be outliers for the {treatment} treatment.\")\n",
    "        print(f\"Values above {round(r_ubound,2)} could be outliers for the {treatment} treatment.\")\n",
    "        print('------------------------------------------------------------------------------------------')\n",
    "\n",
    "    elif treatment == 'Infubinol':\n",
    "        i_data = df_fil[df_fil['Drug_Regimen'] == treatment]\n",
    "        i_vol = i_data['Tumor_Volume']\n",
    "        i_data = df_fil[df_fil['Drug_Regimen'] == treatment]\n",
    "        i_vol = i_data['Tumor_Volume']\n",
    "        i_quar = i_vol.quantile([.25,.5,.75])\n",
    "        i_lowerq = i_quar[0.25]\n",
    "        i_upperq = i_quar[0.75]\n",
    "        i_iqr = i_upperq-i_lowerq\n",
    "        i_lbound = i_lowerq - (1.5*i_iqr)\n",
    "        i_ubound = i_upperq + (1.5*i_iqr)\n",
    "        print('------------------------------------------------------------------------------------------')\n",
    "        print(f\"The interquartile range of the tumor volume for the {treatment} treatment is: {round(i_iqr,2)}\")\n",
    "        print(f\"Values below {round(i_lbound,2)} could be outliers for the {treatment} treatment.\")\n",
    "        print(f\"Values above {round(i_ubound,2)} could be outliers for the {treatment} treatment.\")\n",
    "        print('------------------------------------------------------------------------------------------')\n",
    "   \n",
    "    else:\n",
    "        ce_data = df_fil[df_fil['Drug_Regimen'] == treatment]\n",
    "        ce_vol = ce_data['Tumor_Volume']\n",
    "        ce_quar = ce_vol.quantile([.25,.5,.75])\n",
    "        ce_lowerq = ce_quar[0.25]\n",
    "        ce_upperq = ce_quar[0.75]\n",
    "        ce_iqr = ce_upperq-ce_lowerq\n",
    "        ce_lbound = ce_lowerq - (1.5*ce_iqr)\n",
    "        ce_ubound = ce_upperq + (1.5*ce_iqr)\n",
    "        print('------------------------------------------------------------------------------------------')\n",
    "        print(f\"The interquartile range of the tumor volume for the {treatment} treatment is: {round(ce_iqr,2)}\")\n",
    "        print(f\"Values below {round(ce_lbound,2)} could be outliers for the {treatment} treatment.\")\n",
    "        print(f\"Values above {round(ce_ubound,2)} could be outliers for the {treatment} treatment.\")\n",
    "        print('------------------------------------------------------------------------------------------')\n"
   ]
  },
  {
   "cell_type": "code",
   "execution_count": null,
   "metadata": {},
   "outputs": [],
   "source": [
    "# Generate a box plot of the final tumor volume of each mouse across four regimens of interest\n",
    "red_diamond = dict(markerfacecolor='r', marker='D')\n",
    "fig1, ax1 = plt.subplots()\n",
    "ax1.set_title('Final Tumor Volume per Treatment Regimen ')\n",
    "ax1.set_ylabel('Tumor Volume (mm3)')\n",
    "ax1.boxplot([ca_vol, r_vol, i_vol, ce_vol], flierprops=red_diamond,labels = p_treatments, patch_artist = True)\n",
    "plt.show()"
   ]
  },
  {
   "cell_type": "code",
   "execution_count": null,
   "metadata": {},
   "outputs": [],
   "source": [
    "# Generate a line plot of tumor volume vs. time point for a mouse treated with Capomulin\n",
    "\n",
    "# Select Capomulin data from the clean data frame\n",
    "capo_data = data_clean[data_clean['Drug_Regimen'] == 'Capomulin']\n",
    "\n",
    "# Pick a random mouse that was treated with Capomulin\n",
    "mouse_selected = rd.choice(capo_data['Mouse ID'].unique())\n",
    "\n",
    "# Get the data of the mouse that was randomly picked\n",
    "mouse_df = capo_data[capo_data['Mouse ID'] == mouse_selected]\n",
    "\n",
    "plt.plot(mouse_df['Timepoint'], mouse_df['Tumor_Volume'], color ='red', label = 'Tumor Volume', lw = 3)\n",
    "plt.legend(loc=\"best\")\n",
    "plt.title('Tumor Volume Changes for ' + mouse_selected + ' mouse')\n",
    "plt.xlabel('Time Points')\n",
    "plt.xticks(np.arange(min(mouse_df['Timepoint']), max(mouse_df['Timepoint'])+1, 5))\n",
    "plt.ylabel('Tumor Volume (mm3)')\n",
    "plt.show\n"
   ]
  },
  {
   "cell_type": "code",
   "execution_count": null,
   "metadata": {},
   "outputs": [],
   "source": [
    "# Generate a scatter plot of average tumor volume vs. mouse weight for the Capomulin regimen\n",
    "scatter_data = capo_data.groupby(['Mouse ID']).agg({'Tumor_Volume':'mean', 'Weight' : 'mean'})\n",
    "scatter_data.plot(kind='scatter', x = 'Tumor_Volume', y = 'Weight', \n",
    "                  title = 'Average Tumor Volume vs. Mouse Weight for the Capomulin Regimen')\n",
    "plt.show()"
   ]
  },
  {
   "cell_type": "code",
   "execution_count": null,
   "metadata": {},
   "outputs": [],
   "source": [
    "# Calculate the correlation coefficient and linear regression model \n",
    "# for mouse weight and average tumor volume for the Capomulin regimen\n",
    "\n",
    "weight = scatter_data.Weight\n",
    "volume = scatter_data.Tumor_Volume\n",
    "correlation = st.pearsonr(volume,weight)\n",
    "\n",
    "print(f\"The correlation coefficient between mouse weight and average tumor volume is {round(correlation[0],2)}\")\n"
   ]
  },
  {
   "cell_type": "code",
   "execution_count": null,
   "metadata": {},
   "outputs": [],
   "source": [
    "# Linear regression on weight versus average tumor volume for the Capomulin regime\n",
    "(slope, intercept, rvalue, pvalue, std_err) = st.linregress(volume,weight)\n",
    "\n",
    "# Create equation of line to calculate predicted violent crime rate\n",
    "weight_fit = slope * volume + intercept\n",
    "scatter_data.plot(kind='scatter', x = 'Tumor_Volume', y = 'Weight', \n",
    "                  title = 'Average Tumor Volume vs. Mouse Weight for the Capomulin Regimen')\n",
    "plt.plot(volume, weight_fit,\"--\")\n",
    "plt.show()\n"
   ]
  },
  {
   "cell_type": "code",
   "execution_count": null,
   "metadata": {},
   "outputs": [],
   "source": []
  }
 ],
 "metadata": {
  "celltoolbar": "Raw Cell Format",
  "kernelspec": {
   "display_name": "Python [conda env:pythonData]",
   "language": "python",
   "name": "conda-env-pythonData-py"
  },
  "language_info": {
   "codemirror_mode": {
    "name": "ipython",
    "version": 3
   },
   "file_extension": ".py",
   "mimetype": "text/x-python",
   "name": "python",
   "nbconvert_exporter": "python",
   "pygments_lexer": "ipython3",
   "version": "3.6.10"
  }
 },
 "nbformat": 4,
 "nbformat_minor": 4
}
